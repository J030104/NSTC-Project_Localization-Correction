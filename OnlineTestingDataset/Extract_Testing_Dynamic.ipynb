{
 "cells": [
  {
   "cell_type": "markdown",
   "metadata": {},
   "source": [
    "# From .txt(raw file) to .csv file(x,y,theta)"
   ]
  },
  {
   "cell_type": "markdown",
   "metadata": {},
   "source": [
    "### \"Course\" field in dynamic data is used to replace HDT "
   ]
  },
  {
   "cell_type": "markdown",
   "metadata": {},
   "source": [
    "### Dependencies"
   ]
  },
  {
   "cell_type": "code",
   "execution_count": 1,
   "metadata": {},
   "outputs": [
    {
     "name": "stderr",
     "output_type": "stream",
     "text": [
      "c:\\Users\\happy\\.pyenv\\pyenv-win\\versions\\3.8.10\\lib\\site-packages\\numpy\\_distributor_init.py:30: UserWarning: loaded more than 1 DLL from .libs:\n",
      "c:\\Users\\happy\\.pyenv\\pyenv-win\\versions\\3.8.10\\lib\\site-packages\\numpy\\.libs\\libopenblas.EL2C6PLE4ZYW3ECEVIV3OXXGRN2NRFM2.gfortran-win_amd64.dll\n",
      "c:\\Users\\happy\\.pyenv\\pyenv-win\\versions\\3.8.10\\lib\\site-packages\\numpy\\.libs\\libopenblas.WCDJNK7YVMPZQ2ME2ZZHJJRJ3JIKNDB7.gfortran-win_amd64.dll\n",
      "  warnings.warn(\"loaded more than 1 DLL from .libs:\"\n"
     ]
    }
   ],
   "source": [
    "import os\n",
    "import csv\n",
    "import numpy as np"
   ]
  },
  {
   "cell_type": "code",
   "execution_count": 2,
   "metadata": {},
   "outputs": [],
   "source": [
    "# dir_path = r\"Dynamic Logs for Testing\"\n",
    "# input_dir_path = os.path.join(dir_path, \"Special_CanBeBoth\")\n",
    "# output_dir_path = os.path.join(dir_path, \"Special_Processed\")\n",
    "\n",
    "dir_path = r\"C:\\Users\\happy\\OneDrive\\Documents\\Studies\\NSTC project\\Log\\Bad\"\n",
    "input_dir_path = os.path.join(dir_path)\n",
    "output_dir_path = os.path.join(dir_path)\n",
    "\n",
    "if not os.path.exists(output_dir_path):\n",
    "    os.makedirs(output_dir_path)\n",
    "\n",
    "vecX = np.array([7.260e-06, 6.136e-06])\n",
    "vecY = np.array([-6.840e-06, 6.544e-06])\n",
    "basis = np.column_stack((vecX, vecY))\n",
    "offset = np.array([-121.5409683, -25.0129261])"
   ]
  },
  {
   "cell_type": "code",
   "execution_count": 3,
   "metadata": {},
   "outputs": [
    {
     "name": "stdout",
     "output_type": "stream",
     "text": [
      "['Firebird_P_NMEA_Log_USB_COM_230324_171812.txt', 'Firebird_P_NMEA_Log_USB_COM_230324_172849.txt']\n"
     ]
    }
   ],
   "source": [
    "texts_array = []\n",
    "textFiles = [f for f in os.listdir(input_dir_path) if os.path.isfile(os.path.join(input_dir_path, f)) and f.endswith(\".txt\")]\n",
    "print(textFiles)"
   ]
  },
  {
   "cell_type": "code",
   "execution_count": 4,
   "metadata": {},
   "outputs": [
    {
     "name": "stdout",
     "output_type": "stream",
     "text": [
      "2\n"
     ]
    }
   ],
   "source": [
    "texts_array.clear()\n",
    "for tFile in textFiles:\n",
    "    fullFile = os.path.join(input_dir_path, tFile)\n",
    "    with open(fullFile, 'r') as file:\n",
    "        file_content = file.readlines()\n",
    "        texts_array.append(file_content)\n",
    "\n",
    "# texts_array[0]\n",
    "print(len(texts_array))"
   ]
  },
  {
   "cell_type": "code",
   "execution_count": 5,
   "metadata": {},
   "outputs": [],
   "source": [
    "i = 0\n",
    "for texts in texts_array:\n",
    "    # Remove the last line\n",
    "    texts.pop()\n",
    "    file_content = texts\n",
    "\n",
    "    # Extract lines starting with $GNGGA or $GPHDT\n",
    "    extracted_lines = [line for line in file_content if line.startswith('$GNGGA') or line.startswith('$GNRMC')]\n",
    "    \n",
    "    # Ensure the first line starts with $GNGGA and the last line with $GPHDT\n",
    "    if not extracted_lines or not extracted_lines[0].startswith('$GNGGA'):\n",
    "        extracted_lines.pop(0);\n",
    "    if not extracted_lines or not extracted_lines[-1].startswith('$GNRMC'):\n",
    "        extracted_lines.pop();\n",
    "    \n",
    "    # Ensure there are an even number of extracted lines\n",
    "    if len(extracted_lines) % 2 != 0:\n",
    "        print(f\"Odd number of extracted lines in data_array[{i}][].\")\n",
    "    # else:\n",
    "    #     print(\"Success.\")\n",
    "    \n",
    "    # Replace the element in data_array with the extracted lines\n",
    "    texts_array[i] = extracted_lines\n",
    "    i += 1"
   ]
  },
  {
   "cell_type": "code",
   "execution_count": 6,
   "metadata": {},
   "outputs": [],
   "source": [
    "# Convert dd.mmmmmmmmm... to dd.dddddddd\n",
    "def ddm2ddd(n):\n",
    "    d = int(n)\n",
    "    m_in_d = (n - d) * 5 / 3 # *(100/60)\n",
    "    return round(d + m_in_d, 8)"
   ]
  },
  {
   "cell_type": "code",
   "execution_count": 7,
   "metadata": {},
   "outputs": [],
   "source": [
    "def angleConversion(h):\n",
    "    # 0 <-> 45, 45 <-> 0, 90 <-> 315, 135 <-> 270, 180 <-> 225 ... \n",
    "    if h == -1:\n",
    "        return h\n",
    "    \n",
    "    return round((405 - h) % 360, 3)\n",
    "\n",
    "# def generate_flat_random_numbers(num_samples, range_width=2.6):\n",
    "#     flat_values = np.random.uniform(low=-range_width/2, high=range_width/2, size=num_samples)\n",
    "#     flat_values -= np.mean(flat_values) # Adjust the values to have an average of zero\n",
    "#     rounded_values = np.round(flat_values, 3)\n",
    "#     return rounded_values\n",
    "\n",
    "# range_width = 2.6 # +-k -> 2k (+-1.3)\n",
    "\n",
    "def LL2XY(Lat, Lon):\n",
    "    v = np.array([Lon + offset[0], Lat + offset[1]])\n",
    "    X, Y = np.linalg.solve(basis, v)\n",
    "    return round(X, 5), round(Y, 5)\n",
    "\n",
    "# def convHDT(HDT, truth):\n",
    "#     if HDT != -1:\n",
    "#         return angleConversion(HDT)\n",
    "#     else: # Need to generate a faux HDT\n",
    "#         r = np.random.uniform(-5, 5)\n",
    "#         t = truth + r # No need angConv since it's already self-defined\n",
    "#         if t < 0:\n",
    "#             t += 360\n",
    "#         return round(t, 3)\n",
    "        "
   ]
  },
  {
   "cell_type": "code",
   "execution_count": 9,
   "metadata": {},
   "outputs": [],
   "source": [
    "processed_data = []\n",
    "\n",
    "idx = 0\n",
    "for file_content in texts_array:\n",
    "    i = 0\n",
    "    n = len(file_content) \n",
    "    processed_data.clear()\n",
    "    # Process pairs of lines starting with \"$GNGGA\" and \"$GPHDT\"\n",
    "    for k in range(0, n, 2):\n",
    "        if k + 1 < n and file_content[k].startswith('$GNGGA') and file_content[k + 1].startswith('$GNRMC'):\n",
    "            gngga_line = file_content[k].split(',')\n",
    "            gnrmc_line = file_content[k + 1].split(',')\n",
    "            \n",
    "            # Extract the desired fields from $GNGGA and $GPHDT lines\n",
    "            if len(gngga_line) >= 5 and len(gnrmc_line) >= 3:\n",
    "                Lat = ddm2ddd(float(gngga_line[2]) / 100)\n",
    "                Lon = ddm2ddd(float(gngga_line[4]) / 100)\n",
    "                x, y = LL2XY(Lat, Lon)\n",
    "                ind = gngga_line[6]\n",
    "\n",
    "                # Now we use RMC course as HDT\n",
    "                try:\n",
    "                    HDT = float(gnrmc_line[8]) if gnrmc_line[8] else -1\n",
    "                except ValueError:\n",
    "                    HDT = -1  # Assign a default value if conversion fails\n",
    "                t = angleConversion(HDT)\n",
    "                processed_data.append([i, Lat, Lon, HDT, ind, x, y, t])\n",
    "        i += 1\n",
    "    \n",
    "    filename = textFiles[idx] + '.csv'\n",
    "    output_csv_file = os.path.join(output_dir_path, filename)\n",
    "    # print(idx)\n",
    "    # print(filename)\n",
    "    with open(output_csv_file, 'w', newline='') as csvfile:\n",
    "        csv_writer = csv.writer(csvfile)\n",
    "        csv_writer.writerows(processed_data)\n",
    "\n",
    "    idx += 1"
   ]
  }
 ],
 "metadata": {
  "kernelspec": {
   "display_name": "Python 3",
   "language": "python",
   "name": "python3"
  },
  "language_info": {
   "codemirror_mode": {
    "name": "ipython",
    "version": 3
   },
   "file_extension": ".py",
   "mimetype": "text/x-python",
   "name": "python",
   "nbconvert_exporter": "python",
   "pygments_lexer": "ipython3",
   "version": "3.8.10"
  }
 },
 "nbformat": 4,
 "nbformat_minor": 2
}
