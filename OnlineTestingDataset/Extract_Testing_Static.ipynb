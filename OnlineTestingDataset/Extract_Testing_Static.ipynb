{
 "cells": [
  {
   "cell_type": "markdown",
   "metadata": {},
   "source": [
    "# From .txt(raw file) to .csv file(x,y,theta)"
   ]
  },
  {
   "cell_type": "markdown",
   "metadata": {},
   "source": [
    "### Dependencies"
   ]
  },
  {
   "cell_type": "code",
   "execution_count": 9,
   "metadata": {},
   "outputs": [],
   "source": [
    "import os\n",
    "import csv\n",
    "import numpy as np"
   ]
  },
  {
   "cell_type": "code",
   "execution_count": 10,
   "metadata": {},
   "outputs": [],
   "source": [
    "dir_path = r\"IB_missing_points\"\n",
    "output_dir_path = r\"IB_Dataset\"\n",
    "\n",
    "# Averaged vecX: [7.260e-06 6.136e-06]\n",
    "# Averaged vecY: [-6.840e-06  6.544e-06]\n",
    "\n",
    "vecX = np.array([7.260e-06, 6.136e-06])\n",
    "vecY = np.array([-6.840e-06, 6.544e-06])\n",
    "basis = np.column_stack((vecX, vecY))\n",
    "offset = np.array([-121.5409683, -25.0129261])"
   ]
  },
  {
   "cell_type": "code",
   "execution_count": 11,
   "metadata": {},
   "outputs": [
    {
     "name": "stdout",
     "output_type": "stream",
     "text": [
      "['0_15_0.txt', '0_15_135.txt', '0_15_180.txt', '0_15_225.txt', '0_15_270.txt', '0_15_315.txt', '0_15_45.txt', '0_15_90.txt', '0_25_0.txt', '0_25_135.txt', '0_25_180.txt', '0_25_225.txt', '0_25_270.txt', '0_25_315.txt', '0_25_45.txt', '0_25_90.txt', '0_35_0.txt', '0_35_135.txt', '0_35_180.txt', '0_35_225.txt', '0_35_270.txt', '0_35_315.txt', '0_35_45.txt', '0_35_90.txt', '0_45_0.txt', '0_45_135.txt', '0_45_180.txt', '0_45_225.txt', '0_45_270.txt', '0_45_315.txt', '0_45_45.txt', '0_45_90.txt', '0_55_0.txt', '0_55_135.txt', '0_55_180.txt', '0_55_225.txt', '0_55_270.txt', '0_55_315.txt', '0_55_45.txt', '0_55_90.txt', '0_5_0.txt', '0_5_135.txt', '0_5_180.txt', '0_5_225.txt', '0_5_270.txt', '0_5_315.txt', '0_5_45.txt', '0_5_90.txt', '0_65_0.txt', '0_65_135.txt', '0_65_180.txt', '0_65_225.txt', '0_65_270.txt', '0_65_315.txt', '0_65_45.txt', '0_65_90.txt']\n"
     ]
    }
   ],
   "source": [
    "texts_array = []\n",
    "textFiles = os.listdir(dir_path)\n",
    "print(textFiles)\n"
   ]
  },
  {
   "cell_type": "code",
   "execution_count": 12,
   "metadata": {},
   "outputs": [],
   "source": [
    "def getTruth(filename):\n",
    "    name = os.path.splitext(os.path.basename(filename))[0]\n",
    "    x, y, theta = name.split(\"_\")\n",
    "    x = float(x)\n",
    "    y = float(y)\n",
    "    theta = float(theta)\n",
    "    return x, y, theta"
   ]
  },
  {
   "cell_type": "code",
   "execution_count": 13,
   "metadata": {},
   "outputs": [
    {
     "name": "stdout",
     "output_type": "stream",
     "text": [
      "56\n"
     ]
    }
   ],
   "source": [
    "xyt = []\n",
    "texts_array.clear()\n",
    "for tFile in textFiles:\n",
    "    fullFile = os.path.join(dir_path, tFile)\n",
    "    x, y, t = getTruth(fullFile)\n",
    "    xyt.append([x, y, t])\n",
    "    with open(fullFile, 'r') as file:\n",
    "        file_content = file.readlines()\n",
    "        texts_array.append(file_content)\n",
    "\n",
    "# texts_array[0]\n",
    "print(len(texts_array))"
   ]
  },
  {
   "cell_type": "code",
   "execution_count": 14,
   "metadata": {},
   "outputs": [],
   "source": [
    "i = 0\n",
    "for texts in texts_array:\n",
    "    # Remove the last line\n",
    "    texts.pop()\n",
    "    file_content = texts\n",
    "\n",
    "    # Extract lines starting with $GNGGA or $GPHDT\n",
    "    extracted_lines = [line for line in file_content if line.startswith('$GNGGA') or line.startswith('$GPHDT')]\n",
    "    \n",
    "    # Ensure the first line starts with $GNGGA and the last line with $GPHDT\n",
    "    if not extracted_lines or not extracted_lines[0].startswith('$GNGGA'):\n",
    "        extracted_lines.pop(0);\n",
    "    if not extracted_lines or not extracted_lines[-1].startswith('$GPHDT'):\n",
    "        extracted_lines.pop();\n",
    "    \n",
    "    # Ensure there are an even number of extracted lines\n",
    "    if len(extracted_lines) % 2 != 0:\n",
    "        print(f\"Odd number of extracted lines in data_array[{i}][{j}].\")\n",
    "    # else:\n",
    "    #     print(\"Success.\")\n",
    "    \n",
    "    # Replace the element in data_array with the extracted lines\n",
    "    texts_array[i] = extracted_lines\n",
    "    i += 1"
   ]
  },
  {
   "cell_type": "code",
   "execution_count": 15,
   "metadata": {},
   "outputs": [],
   "source": [
    "# Convert dd.mmmmmmmmm... to dd.dddddddd\n",
    "def ddm2ddd(n):\n",
    "    d = int(n)\n",
    "    m_in_d = (n - d) * 5 / 3 # *(100/60)\n",
    "    return round(d + m_in_d, 8)"
   ]
  },
  {
   "cell_type": "code",
   "execution_count": 16,
   "metadata": {},
   "outputs": [
    {
     "data": {
      "text/plain": [
       "56"
      ]
     },
     "execution_count": 16,
     "metadata": {},
     "output_type": "execute_result"
    }
   ],
   "source": [
    "len(texts_array)"
   ]
  },
  {
   "cell_type": "code",
   "execution_count": 17,
   "metadata": {},
   "outputs": [],
   "source": [
    "def angleConversion(h):\n",
    "    # 0 <-> 45, 45 <-> 0, 90 <-> 315, 135 <-> 270, 180 <-> 225 ... \n",
    "    return (405 - h) % 360\n",
    "\n",
    "# def generate_flat_random_numbers(num_samples, range_width=2.6):\n",
    "#     flat_values = np.random.uniform(low=-range_width/2, high=range_width/2, size=num_samples)\n",
    "#     flat_values -= np.mean(flat_values) # Adjust the values to have an average of zero\n",
    "#     rounded_values = np.round(flat_values, 3)\n",
    "#     return rounded_values\n",
    "\n",
    "# range_width = 2.6 # +-k -> 2k (+-1.3)\n",
    "\n",
    "def LL2XY(Lat, Lon):\n",
    "    v = np.array([Lon + offset[0], Lat + offset[1]])\n",
    "    X, Y = np.linalg.solve(basis, v)\n",
    "    return round(X, 5), round(Y, 5)\n",
    "\n",
    "def convHDT(HDT, truth):\n",
    "    if HDT != -1:\n",
    "        return angleConversion(HDT)\n",
    "    else: # Need to generate a faux HDT\n",
    "        r = np.random.uniform(-5, 5)\n",
    "        t = truth + r # No need angConv since it's already self-defined\n",
    "        if t < 0:\n",
    "            t += 360\n",
    "        return round(t, 3)\n",
    "        "
   ]
  },
  {
   "cell_type": "code",
   "execution_count": 18,
   "metadata": {},
   "outputs": [],
   "source": [
    "processed_data = []\n",
    "\n",
    "i = 0\n",
    "for file_content in texts_array:\n",
    "    n = len(file_content) \n",
    "    processed_data.clear()\n",
    "    # Process pairs of lines starting with \"$GNGGA\" and \"$GPHDT\"\n",
    "    for k in range(0, n, 2):\n",
    "        if k + 1 < n and file_content[k].startswith('$GNGGA') and file_content[k + 1].startswith('$GPHDT'):\n",
    "            gngga_line = file_content[k].split(',')\n",
    "            gphdt_line = file_content[k + 1].split(',')\n",
    "            \n",
    "            # Extract the desired fields from $GNGGA and $GPHDT lines\n",
    "            if len(gngga_line) >= 5 and len(gphdt_line) >= 3:\n",
    "                Lat = ddm2ddd(float(gngga_line[2]) / 100)\n",
    "                Lon = ddm2ddd(float(gngga_line[4]) / 100)\n",
    "                x, y = LL2XY(Lat, Lon)\n",
    "\n",
    "                HDT = float(gphdt_line[1]) if gphdt_line[1] else -1\n",
    "                # Generate faux HDT if needed\n",
    "                t = convHDT(HDT, xyt[i][2])\n",
    "                processed_data.append([x, y, t])\n",
    "    \n",
    "    filename = str(int(xyt[i][0])) + '_' + str(int(xyt[i][1])) + '_' + str(int(xyt[i][2])) + '.csv'\n",
    "    output_csv_file = os.path.join(output_dir_path, filename)\n",
    "    # print(i)\n",
    "    # print(filename)\n",
    "    with open(output_csv_file, 'w', newline='') as csvfile:\n",
    "        csv_writer = csv.writer(csvfile)\n",
    "        csv_writer.writerows(processed_data)\n",
    "\n",
    "    i += 1"
   ]
  }
 ],
 "metadata": {
  "kernelspec": {
   "display_name": "Python 3",
   "language": "python",
   "name": "python3"
  },
  "language_info": {
   "codemirror_mode": {
    "name": "ipython",
    "version": 3
   },
   "file_extension": ".py",
   "mimetype": "text/x-python",
   "name": "python",
   "nbconvert_exporter": "python",
   "pygments_lexer": "ipython3",
   "version": "3.10.0"
  }
 },
 "nbformat": 4,
 "nbformat_minor": 2
}
